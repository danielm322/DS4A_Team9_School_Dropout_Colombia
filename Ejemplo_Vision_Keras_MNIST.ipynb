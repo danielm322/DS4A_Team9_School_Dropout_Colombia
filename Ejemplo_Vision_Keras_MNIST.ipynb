{
  "nbformat": 4,
  "nbformat_minor": 0,
  "metadata": {
    "colab": {
      "name": "Keras_MNIST.ipynb",
      "provenance": [],
      "collapsed_sections": [],
      "include_colab_link": true
    },
    "kernelspec": {
      "name": "python3",
      "display_name": "Python 3"
    },
    "accelerator": "GPU"
  },
  "cells": [
    {
      "cell_type": "markdown",
      "metadata": {
        "id": "view-in-github",
        "colab_type": "text"
      },
      "source": [
        "<a href=\"https://colab.research.google.com/github/danielm322/DS4A_Team9_Social_Distancing_Detector/blob/master/Ejemplo_Vision_Keras_MNIST.ipynb\" target=\"_parent\"><img src=\"https://colab.research.google.com/assets/colab-badge.svg\" alt=\"Open In Colab\"/></a>"
      ]
    },
    {
      "cell_type": "code",
      "metadata": {
        "id": "ocNJrYHiZ2_g",
        "colab_type": "code",
        "colab": {
          "base_uri": "https://localhost:8080/",
          "height": 34
        },
        "outputId": "44d97813-d7ec-49c2-f415-0ed0cb06c2c2"
      },
      "source": [
        "from sklearn.preprocessing import LabelBinarizer\n",
        "from sklearn.model_selection import train_test_split\n",
        "from sklearn.metrics import classification_report\n",
        "from keras.models import Sequential\n",
        "from keras.layers.core import Dense\n",
        "from keras.optimizers import SGD\n",
        "from sklearn import datasets\n",
        "import matplotlib.pyplot as plt\n",
        "import numpy as np"
      ],
      "execution_count": 2,
      "outputs": [
        {
          "output_type": "stream",
          "text": [
            "Using TensorFlow backend.\n"
          ],
          "name": "stderr"
        }
      ]
    },
    {
      "cell_type": "code",
      "metadata": {
        "id": "mNMFLpTcaSmZ",
        "colab_type": "code",
        "colab": {}
      },
      "source": [
        "# Grabbing the MNIST dataset\n",
        "dataset = datasets.fetch_openml('mnist_784')\n",
        "\n",
        "# Scale raw pixel intensities to [0, 1], then split data\n",
        "data = dataset.data.astype(\"float\") / 255.0\n",
        "(trainX, testX, trainY, testY) = train_test_split(data, dataset.target, test_size=0.25)"
      ],
      "execution_count": 0,
      "outputs": []
    },
    {
      "cell_type": "code",
      "metadata": {
        "id": "XkNuFa7AcjzG",
        "colab_type": "code",
        "outputId": "6c8dd529-cc92-42a5-dd05-74e78d5a24e8",
        "colab": {
          "base_uri": "https://localhost:8080/",
          "height": 34
        }
      },
      "source": [
        "data.shape"
      ],
      "execution_count": 4,
      "outputs": [
        {
          "output_type": "execute_result",
          "data": {
            "text/plain": [
              "(70000, 784)"
            ]
          },
          "metadata": {
            "tags": []
          },
          "execution_count": 4
        }
      ]
    },
    {
      "cell_type": "code",
      "metadata": {
        "id": "lGP9ttnibKFp",
        "colab_type": "code",
        "colab": {}
      },
      "source": [
        "# convert labels from integers to vectors . Se llama One Hot encoding\n",
        "lb = LabelBinarizer()\n",
        "trainY = lb.fit_transform(trainY)\n",
        "testY = lb.fit_transform(testY)"
      ],
      "execution_count": 0,
      "outputs": []
    },
    {
      "cell_type": "code",
      "metadata": {
        "id": "2WdE3OF7cuCx",
        "colab_type": "code",
        "colab": {}
      },
      "source": [
        "# define the 784-256-128-10 architecture using keras\n",
        "model = Sequential()\n",
        "model.add(Dense(256, input_shape=(784,), activation=\"sigmoid\"))\n",
        "model.add(Dense(128, activation=\"sigmoid\"))\n",
        "model.add(Dense(10, activation=\"softmax\"))"
      ],
      "execution_count": 0,
      "outputs": []
    },
    {
      "cell_type": "code",
      "metadata": {
        "id": "cbseNw8ldgD6",
        "colab_type": "code",
        "outputId": "ed4b5902-2372-4130-8b40-c7a38d9b4989",
        "colab": {
          "base_uri": "https://localhost:8080/",
          "height": 1000
        }
      },
      "source": [
        "sgd = SGD(0.01)\n",
        "model.compile(loss=\"categorical_crossentropy\", optimizer=sgd, metrics=[\"accuracy\"])\n",
        "H = model.fit(trainX, trainY, validation_data=(testX, testY), epochs=100, batch_size=128)"
      ],
      "execution_count": 7,
      "outputs": [
        {
          "output_type": "stream",
          "text": [
            "Train on 52500 samples, validate on 17500 samples\n",
            "Epoch 1/100\n",
            "52500/52500 [==============================] - 3s 64us/step - loss: 2.2868 - accuracy: 0.1821 - val_loss: 2.2535 - val_accuracy: 0.2675\n",
            "Epoch 2/100\n",
            "52500/52500 [==============================] - 2s 32us/step - loss: 2.2253 - accuracy: 0.3705 - val_loss: 2.1936 - val_accuracy: 0.5130\n",
            "Epoch 3/100\n",
            "52500/52500 [==============================] - 2s 32us/step - loss: 2.1581 - accuracy: 0.5186 - val_loss: 2.1159 - val_accuracy: 0.5442\n",
            "Epoch 4/100\n",
            "52500/52500 [==============================] - 2s 32us/step - loss: 2.0661 - accuracy: 0.5919 - val_loss: 2.0071 - val_accuracy: 0.5982\n",
            "Epoch 5/100\n",
            "52500/52500 [==============================] - 2s 32us/step - loss: 1.9377 - accuracy: 0.6296 - val_loss: 1.8563 - val_accuracy: 0.6444\n",
            "Epoch 6/100\n",
            "52500/52500 [==============================] - 2s 32us/step - loss: 1.7685 - accuracy: 0.6629 - val_loss: 1.6703 - val_accuracy: 0.6721\n",
            "Epoch 7/100\n",
            "52500/52500 [==============================] - 2s 33us/step - loss: 1.5746 - accuracy: 0.6946 - val_loss: 1.4746 - val_accuracy: 0.6821\n",
            "Epoch 8/100\n",
            "52500/52500 [==============================] - 2s 32us/step - loss: 1.3851 - accuracy: 0.7226 - val_loss: 1.2936 - val_accuracy: 0.7323\n",
            "Epoch 9/100\n",
            "52500/52500 [==============================] - 2s 32us/step - loss: 1.2201 - accuracy: 0.7483 - val_loss: 1.1449 - val_accuracy: 0.7655\n",
            "Epoch 10/100\n",
            "52500/52500 [==============================] - 2s 32us/step - loss: 1.0839 - accuracy: 0.7709 - val_loss: 1.0225 - val_accuracy: 0.7782\n",
            "Epoch 11/100\n",
            "52500/52500 [==============================] - 2s 32us/step - loss: 0.9742 - accuracy: 0.7859 - val_loss: 0.9244 - val_accuracy: 0.7995\n",
            "Epoch 12/100\n",
            "52500/52500 [==============================] - 2s 33us/step - loss: 0.8857 - accuracy: 0.7994 - val_loss: 0.8464 - val_accuracy: 0.8106\n",
            "Epoch 13/100\n",
            "52500/52500 [==============================] - 2s 32us/step - loss: 0.8140 - accuracy: 0.8112 - val_loss: 0.7818 - val_accuracy: 0.8183\n",
            "Epoch 14/100\n",
            "52500/52500 [==============================] - 2s 32us/step - loss: 0.7553 - accuracy: 0.8202 - val_loss: 0.7291 - val_accuracy: 0.8306\n",
            "Epoch 15/100\n",
            "52500/52500 [==============================] - 2s 33us/step - loss: 0.7067 - accuracy: 0.8281 - val_loss: 0.6850 - val_accuracy: 0.8371\n",
            "Epoch 16/100\n",
            "52500/52500 [==============================] - 2s 32us/step - loss: 0.6662 - accuracy: 0.8358 - val_loss: 0.6476 - val_accuracy: 0.8425\n",
            "Epoch 17/100\n",
            "52500/52500 [==============================] - 2s 32us/step - loss: 0.6318 - accuracy: 0.8418 - val_loss: 0.6166 - val_accuracy: 0.8493\n",
            "Epoch 18/100\n",
            "52500/52500 [==============================] - 2s 33us/step - loss: 0.6026 - accuracy: 0.8470 - val_loss: 0.5896 - val_accuracy: 0.8560\n",
            "Epoch 19/100\n",
            "52500/52500 [==============================] - 2s 33us/step - loss: 0.5771 - accuracy: 0.8527 - val_loss: 0.5659 - val_accuracy: 0.8602\n",
            "Epoch 20/100\n",
            "52500/52500 [==============================] - 2s 34us/step - loss: 0.5549 - accuracy: 0.8573 - val_loss: 0.5451 - val_accuracy: 0.8631\n",
            "Epoch 21/100\n",
            "52500/52500 [==============================] - 2s 34us/step - loss: 0.5352 - accuracy: 0.8614 - val_loss: 0.5271 - val_accuracy: 0.8670\n",
            "Epoch 22/100\n",
            "52500/52500 [==============================] - 2s 34us/step - loss: 0.5178 - accuracy: 0.8648 - val_loss: 0.5105 - val_accuracy: 0.8702\n",
            "Epoch 23/100\n",
            "52500/52500 [==============================] - 2s 32us/step - loss: 0.5022 - accuracy: 0.8681 - val_loss: 0.4957 - val_accuracy: 0.8735\n",
            "Epoch 24/100\n",
            "52500/52500 [==============================] - 2s 32us/step - loss: 0.4882 - accuracy: 0.8711 - val_loss: 0.4835 - val_accuracy: 0.8750\n",
            "Epoch 25/100\n",
            "52500/52500 [==============================] - 2s 31us/step - loss: 0.4753 - accuracy: 0.8744 - val_loss: 0.4714 - val_accuracy: 0.8783\n",
            "Epoch 26/100\n",
            "52500/52500 [==============================] - 2s 32us/step - loss: 0.4639 - accuracy: 0.8759 - val_loss: 0.4601 - val_accuracy: 0.8817\n",
            "Epoch 27/100\n",
            "52500/52500 [==============================] - 2s 32us/step - loss: 0.4535 - accuracy: 0.8781 - val_loss: 0.4502 - val_accuracy: 0.8834\n",
            "Epoch 28/100\n",
            "52500/52500 [==============================] - 2s 33us/step - loss: 0.4439 - accuracy: 0.8805 - val_loss: 0.4410 - val_accuracy: 0.8850\n",
            "Epoch 29/100\n",
            "52500/52500 [==============================] - 2s 34us/step - loss: 0.4352 - accuracy: 0.8831 - val_loss: 0.4329 - val_accuracy: 0.8862\n",
            "Epoch 30/100\n",
            "52500/52500 [==============================] - 2s 34us/step - loss: 0.4271 - accuracy: 0.8844 - val_loss: 0.4252 - val_accuracy: 0.8878\n",
            "Epoch 31/100\n",
            "52500/52500 [==============================] - 2s 34us/step - loss: 0.4198 - accuracy: 0.8855 - val_loss: 0.4181 - val_accuracy: 0.8893\n",
            "Epoch 32/100\n",
            "52500/52500 [==============================] - 2s 34us/step - loss: 0.4130 - accuracy: 0.8872 - val_loss: 0.4124 - val_accuracy: 0.8907\n",
            "Epoch 33/100\n",
            "52500/52500 [==============================] - 2s 35us/step - loss: 0.4067 - accuracy: 0.8882 - val_loss: 0.4061 - val_accuracy: 0.8927\n",
            "Epoch 34/100\n",
            "52500/52500 [==============================] - 2s 32us/step - loss: 0.4010 - accuracy: 0.8897 - val_loss: 0.4008 - val_accuracy: 0.8933\n",
            "Epoch 35/100\n",
            "52500/52500 [==============================] - 2s 33us/step - loss: 0.3956 - accuracy: 0.8906 - val_loss: 0.3953 - val_accuracy: 0.8939\n",
            "Epoch 36/100\n",
            "52500/52500 [==============================] - 2s 32us/step - loss: 0.3906 - accuracy: 0.8912 - val_loss: 0.3907 - val_accuracy: 0.8947\n",
            "Epoch 37/100\n",
            "52500/52500 [==============================] - 2s 32us/step - loss: 0.3858 - accuracy: 0.8929 - val_loss: 0.3864 - val_accuracy: 0.8957\n",
            "Epoch 38/100\n",
            "52500/52500 [==============================] - 2s 32us/step - loss: 0.3814 - accuracy: 0.8936 - val_loss: 0.3819 - val_accuracy: 0.8962\n",
            "Epoch 39/100\n",
            "52500/52500 [==============================] - 2s 32us/step - loss: 0.3775 - accuracy: 0.8942 - val_loss: 0.3781 - val_accuracy: 0.8971\n",
            "Epoch 40/100\n",
            "52500/52500 [==============================] - 2s 32us/step - loss: 0.3735 - accuracy: 0.8950 - val_loss: 0.3746 - val_accuracy: 0.8978\n",
            "Epoch 41/100\n",
            "52500/52500 [==============================] - 2s 32us/step - loss: 0.3700 - accuracy: 0.8957 - val_loss: 0.3714 - val_accuracy: 0.8981\n",
            "Epoch 42/100\n",
            "52500/52500 [==============================] - 2s 32us/step - loss: 0.3665 - accuracy: 0.8965 - val_loss: 0.3678 - val_accuracy: 0.8986\n",
            "Epoch 43/100\n",
            "52500/52500 [==============================] - 2s 32us/step - loss: 0.3633 - accuracy: 0.8974 - val_loss: 0.3654 - val_accuracy: 0.8998\n",
            "Epoch 44/100\n",
            "52500/52500 [==============================] - 2s 32us/step - loss: 0.3601 - accuracy: 0.8977 - val_loss: 0.3621 - val_accuracy: 0.9001\n",
            "Epoch 45/100\n",
            "52500/52500 [==============================] - 2s 32us/step - loss: 0.3572 - accuracy: 0.8987 - val_loss: 0.3598 - val_accuracy: 0.9000\n",
            "Epoch 46/100\n",
            "52500/52500 [==============================] - 2s 32us/step - loss: 0.3545 - accuracy: 0.8995 - val_loss: 0.3569 - val_accuracy: 0.9013\n",
            "Epoch 47/100\n",
            "52500/52500 [==============================] - 2s 32us/step - loss: 0.3518 - accuracy: 0.9000 - val_loss: 0.3539 - val_accuracy: 0.9011\n",
            "Epoch 48/100\n",
            "52500/52500 [==============================] - 2s 32us/step - loss: 0.3493 - accuracy: 0.9001 - val_loss: 0.3519 - val_accuracy: 0.9007\n",
            "Epoch 49/100\n",
            "52500/52500 [==============================] - 2s 32us/step - loss: 0.3469 - accuracy: 0.9011 - val_loss: 0.3497 - val_accuracy: 0.9027\n",
            "Epoch 50/100\n",
            "52500/52500 [==============================] - 2s 32us/step - loss: 0.3445 - accuracy: 0.9012 - val_loss: 0.3472 - val_accuracy: 0.9033\n",
            "Epoch 51/100\n",
            "52500/52500 [==============================] - 2s 32us/step - loss: 0.3422 - accuracy: 0.9014 - val_loss: 0.3456 - val_accuracy: 0.9045\n",
            "Epoch 52/100\n",
            "52500/52500 [==============================] - 2s 32us/step - loss: 0.3401 - accuracy: 0.9024 - val_loss: 0.3431 - val_accuracy: 0.9044\n",
            "Epoch 53/100\n",
            "52500/52500 [==============================] - 2s 32us/step - loss: 0.3380 - accuracy: 0.9029 - val_loss: 0.3410 - val_accuracy: 0.9049\n",
            "Epoch 54/100\n",
            "52500/52500 [==============================] - 2s 32us/step - loss: 0.3360 - accuracy: 0.9030 - val_loss: 0.3393 - val_accuracy: 0.9055\n",
            "Epoch 55/100\n",
            "52500/52500 [==============================] - 2s 32us/step - loss: 0.3340 - accuracy: 0.9036 - val_loss: 0.3376 - val_accuracy: 0.9055\n",
            "Epoch 56/100\n",
            "52500/52500 [==============================] - 2s 32us/step - loss: 0.3321 - accuracy: 0.9040 - val_loss: 0.3360 - val_accuracy: 0.9062\n",
            "Epoch 57/100\n",
            "52500/52500 [==============================] - 2s 32us/step - loss: 0.3303 - accuracy: 0.9047 - val_loss: 0.3339 - val_accuracy: 0.9066\n",
            "Epoch 58/100\n",
            "52500/52500 [==============================] - 2s 32us/step - loss: 0.3285 - accuracy: 0.9048 - val_loss: 0.3327 - val_accuracy: 0.9070\n",
            "Epoch 59/100\n",
            "52500/52500 [==============================] - 2s 32us/step - loss: 0.3268 - accuracy: 0.9059 - val_loss: 0.3309 - val_accuracy: 0.9062\n",
            "Epoch 60/100\n",
            "52500/52500 [==============================] - 2s 32us/step - loss: 0.3251 - accuracy: 0.9058 - val_loss: 0.3292 - val_accuracy: 0.9071\n",
            "Epoch 61/100\n",
            "52500/52500 [==============================] - 2s 33us/step - loss: 0.3234 - accuracy: 0.9064 - val_loss: 0.3276 - val_accuracy: 0.9078\n",
            "Epoch 62/100\n",
            "52500/52500 [==============================] - 2s 33us/step - loss: 0.3218 - accuracy: 0.9071 - val_loss: 0.3270 - val_accuracy: 0.9081\n",
            "Epoch 63/100\n",
            "52500/52500 [==============================] - 2s 32us/step - loss: 0.3203 - accuracy: 0.9072 - val_loss: 0.3253 - val_accuracy: 0.9087\n",
            "Epoch 64/100\n",
            "52500/52500 [==============================] - 2s 32us/step - loss: 0.3188 - accuracy: 0.9074 - val_loss: 0.3243 - val_accuracy: 0.9079\n",
            "Epoch 65/100\n",
            "52500/52500 [==============================] - 2s 32us/step - loss: 0.3172 - accuracy: 0.9079 - val_loss: 0.3221 - val_accuracy: 0.9094\n",
            "Epoch 66/100\n",
            "52500/52500 [==============================] - 2s 32us/step - loss: 0.3159 - accuracy: 0.9086 - val_loss: 0.3209 - val_accuracy: 0.9097\n",
            "Epoch 67/100\n",
            "52500/52500 [==============================] - 2s 32us/step - loss: 0.3144 - accuracy: 0.9087 - val_loss: 0.3202 - val_accuracy: 0.9097\n",
            "Epoch 68/100\n",
            "52500/52500 [==============================] - 2s 32us/step - loss: 0.3130 - accuracy: 0.9088 - val_loss: 0.3181 - val_accuracy: 0.9108\n",
            "Epoch 69/100\n",
            "52500/52500 [==============================] - 2s 32us/step - loss: 0.3117 - accuracy: 0.9093 - val_loss: 0.3173 - val_accuracy: 0.9103\n",
            "Epoch 70/100\n",
            "52500/52500 [==============================] - 2s 32us/step - loss: 0.3103 - accuracy: 0.9102 - val_loss: 0.3162 - val_accuracy: 0.9099\n",
            "Epoch 71/100\n",
            "52500/52500 [==============================] - 2s 32us/step - loss: 0.3090 - accuracy: 0.9097 - val_loss: 0.3148 - val_accuracy: 0.9106\n",
            "Epoch 72/100\n",
            "52500/52500 [==============================] - 2s 32us/step - loss: 0.3078 - accuracy: 0.9105 - val_loss: 0.3137 - val_accuracy: 0.9115\n",
            "Epoch 73/100\n",
            "52500/52500 [==============================] - 2s 32us/step - loss: 0.3065 - accuracy: 0.9104 - val_loss: 0.3129 - val_accuracy: 0.9109\n",
            "Epoch 74/100\n",
            "52500/52500 [==============================] - 2s 32us/step - loss: 0.3053 - accuracy: 0.9110 - val_loss: 0.3115 - val_accuracy: 0.9121\n",
            "Epoch 75/100\n",
            "52500/52500 [==============================] - 2s 32us/step - loss: 0.3041 - accuracy: 0.9112 - val_loss: 0.3104 - val_accuracy: 0.9127\n",
            "Epoch 76/100\n",
            "52500/52500 [==============================] - 2s 32us/step - loss: 0.3029 - accuracy: 0.9118 - val_loss: 0.3096 - val_accuracy: 0.9125\n",
            "Epoch 77/100\n",
            "52500/52500 [==============================] - 2s 32us/step - loss: 0.3017 - accuracy: 0.9117 - val_loss: 0.3084 - val_accuracy: 0.9127\n",
            "Epoch 78/100\n",
            "52500/52500 [==============================] - 2s 32us/step - loss: 0.3006 - accuracy: 0.9124 - val_loss: 0.3071 - val_accuracy: 0.9133\n",
            "Epoch 79/100\n",
            "52500/52500 [==============================] - 2s 33us/step - loss: 0.2994 - accuracy: 0.9129 - val_loss: 0.3060 - val_accuracy: 0.9130\n",
            "Epoch 80/100\n",
            "52500/52500 [==============================] - 2s 32us/step - loss: 0.2983 - accuracy: 0.9130 - val_loss: 0.3056 - val_accuracy: 0.9128\n",
            "Epoch 81/100\n",
            "52500/52500 [==============================] - 2s 32us/step - loss: 0.2972 - accuracy: 0.9135 - val_loss: 0.3042 - val_accuracy: 0.9138\n",
            "Epoch 82/100\n",
            "52500/52500 [==============================] - 2s 32us/step - loss: 0.2961 - accuracy: 0.9138 - val_loss: 0.3033 - val_accuracy: 0.9135\n",
            "Epoch 83/100\n",
            "52500/52500 [==============================] - 2s 32us/step - loss: 0.2950 - accuracy: 0.9137 - val_loss: 0.3021 - val_accuracy: 0.9136\n",
            "Epoch 84/100\n",
            "52500/52500 [==============================] - 2s 32us/step - loss: 0.2939 - accuracy: 0.9146 - val_loss: 0.3013 - val_accuracy: 0.9138\n",
            "Epoch 85/100\n",
            "52500/52500 [==============================] - 2s 33us/step - loss: 0.2929 - accuracy: 0.9147 - val_loss: 0.3006 - val_accuracy: 0.9145\n",
            "Epoch 86/100\n",
            "52500/52500 [==============================] - 2s 32us/step - loss: 0.2919 - accuracy: 0.9147 - val_loss: 0.2995 - val_accuracy: 0.9146\n",
            "Epoch 87/100\n",
            "52500/52500 [==============================] - 2s 31us/step - loss: 0.2907 - accuracy: 0.9153 - val_loss: 0.2986 - val_accuracy: 0.9145\n",
            "Epoch 88/100\n",
            "52500/52500 [==============================] - 2s 32us/step - loss: 0.2897 - accuracy: 0.9155 - val_loss: 0.2985 - val_accuracy: 0.9149\n",
            "Epoch 89/100\n",
            "52500/52500 [==============================] - 2s 32us/step - loss: 0.2888 - accuracy: 0.9157 - val_loss: 0.2968 - val_accuracy: 0.9147\n",
            "Epoch 90/100\n",
            "52500/52500 [==============================] - 2s 32us/step - loss: 0.2878 - accuracy: 0.9158 - val_loss: 0.2958 - val_accuracy: 0.9154\n",
            "Epoch 91/100\n",
            "52500/52500 [==============================] - 2s 32us/step - loss: 0.2868 - accuracy: 0.9164 - val_loss: 0.2954 - val_accuracy: 0.9153\n",
            "Epoch 92/100\n",
            "52500/52500 [==============================] - 2s 31us/step - loss: 0.2858 - accuracy: 0.9165 - val_loss: 0.2946 - val_accuracy: 0.9147\n",
            "Epoch 93/100\n",
            "52500/52500 [==============================] - 2s 33us/step - loss: 0.2850 - accuracy: 0.9167 - val_loss: 0.2937 - val_accuracy: 0.9158\n",
            "Epoch 94/100\n",
            "52500/52500 [==============================] - 2s 32us/step - loss: 0.2839 - accuracy: 0.9174 - val_loss: 0.2928 - val_accuracy: 0.9159\n",
            "Epoch 95/100\n",
            "52500/52500 [==============================] - 2s 32us/step - loss: 0.2830 - accuracy: 0.9171 - val_loss: 0.2917 - val_accuracy: 0.9166\n",
            "Epoch 96/100\n",
            "52500/52500 [==============================] - 2s 32us/step - loss: 0.2820 - accuracy: 0.9178 - val_loss: 0.2913 - val_accuracy: 0.9165\n",
            "Epoch 97/100\n",
            "52500/52500 [==============================] - 2s 32us/step - loss: 0.2812 - accuracy: 0.9181 - val_loss: 0.2901 - val_accuracy: 0.9169\n",
            "Epoch 98/100\n",
            "52500/52500 [==============================] - 2s 32us/step - loss: 0.2802 - accuracy: 0.9182 - val_loss: 0.2896 - val_accuracy: 0.9164\n",
            "Epoch 99/100\n",
            "52500/52500 [==============================] - 2s 32us/step - loss: 0.2793 - accuracy: 0.9183 - val_loss: 0.2888 - val_accuracy: 0.9175\n",
            "Epoch 100/100\n",
            "52500/52500 [==============================] - 2s 32us/step - loss: 0.2784 - accuracy: 0.9186 - val_loss: 0.2880 - val_accuracy: 0.9173\n"
          ],
          "name": "stdout"
        }
      ]
    },
    {
      "cell_type": "code",
      "metadata": {
        "id": "NfGP35LUeG_J",
        "colab_type": "code",
        "outputId": "8cba39f3-3806-44c8-c82b-18a89d40fdd3",
        "colab": {
          "base_uri": "https://localhost:8080/",
          "height": 306
        }
      },
      "source": [
        "# evaluate the network\n",
        "predictions = model.predict(testX, batch_size=128)\n",
        "print(classification_report(testY.argmax(axis=1), predictions.argmax(axis=1), target_names=[str(x) for x in lb.classes_]))"
      ],
      "execution_count": 8,
      "outputs": [
        {
          "output_type": "stream",
          "text": [
            "              precision    recall  f1-score   support\n",
            "\n",
            "           0       0.95      0.97      0.96      1716\n",
            "           1       0.94      0.96      0.95      2013\n",
            "           2       0.91      0.90      0.90      1664\n",
            "           3       0.92      0.89      0.90      1835\n",
            "           4       0.91      0.93      0.92      1746\n",
            "           5       0.88      0.88      0.88      1602\n",
            "           6       0.93      0.95      0.94      1667\n",
            "           7       0.93      0.93      0.93      1817\n",
            "           8       0.90      0.86      0.88      1693\n",
            "           9       0.90      0.89      0.90      1747\n",
            "\n",
            "    accuracy                           0.92     17500\n",
            "   macro avg       0.92      0.92      0.92     17500\n",
            "weighted avg       0.92      0.92      0.92     17500\n",
            "\n"
          ],
          "name": "stdout"
        }
      ]
    },
    {
      "cell_type": "code",
      "metadata": {
        "id": "dCWRK0tsfV1v",
        "colab_type": "code",
        "outputId": "4f4c4d98-3558-4c59-e474-115dd1af8d5b",
        "colab": {
          "base_uri": "https://localhost:8080/",
          "height": 287
        }
      },
      "source": [
        "plt.style.use(\"ggplot\")\n",
        "plt.figure()\n",
        "plt.plot(np.arange(0, 100), H.history[\"loss\"], label=\"train_loss\")\n",
        "plt.plot(np.arange(0, 100), H.history[\"val_loss\"], label=\"val_loss\")\n",
        "plt.plot(np.arange(0, 100), H.history[\"acc\"], label=\"train_acc\")\n",
        "plt.plot(np.arange(0, 100), H.history[\"val_acc\"], label=\"val_acc\")\n",
        "plt.legend()"
      ],
      "execution_count": 0,
      "outputs": [
        {
          "output_type": "execute_result",
          "data": {
            "text/plain": [
              "<matplotlib.legend.Legend at 0x7f21c0311748>"
            ]
          },
          "metadata": {
            "tags": []
          },
          "execution_count": 14
        },
        {
          "output_type": "display_data",
          "data": {
            "image/png": "[encoded data removed]",
            "text/plain": [
              "<Figure size 432x288 with 1 Axes>"
            ]
          },
          "metadata": {
            "tags": []
          }
        }
      ]
    },
    {
      "cell_type": "code",
      "metadata": {
        "id": "LGe4TJ85fyCM",
        "colab_type": "code",
        "colab": {}
      },
      "source": [
        "# The closeness of the lines implies that there is no overfitting occurring"
      ],
      "execution_count": 0,
      "outputs": []
    }
  ]
}